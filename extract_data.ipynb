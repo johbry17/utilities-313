{
 "cells": [
  {
   "cell_type": "code",
   "execution_count": 2,
   "metadata": {},
   "outputs": [],
   "source": [
    "# import dependencies\n",
    "import gspread\n",
    "import pandas as pd\n",
    "import re\n",
    "from oauth2client.service_account import ServiceAccountCredentials\n",
    "from name_scrubber import name_map"
   ]
  },
  {
   "cell_type": "code",
   "execution_count": 3,
   "metadata": {},
   "outputs": [],
   "source": [
    "# authenticate and connect to google sheets\n",
    "scope = [\n",
    "    \"https://spreadsheets.google.com/feeds\",\n",
    "    \"https://www.googleapis.com/auth/drive\",\n",
    "]\n",
    "creds = ServiceAccountCredentials.from_json_keyfile_name(\"utilities.json\", scope)\n",
    "client = gspread.authorize(creds)\n",
    "spreadsheet = client.open(\"Utilities 313\")"
   ]
  },
  {
   "cell_type": "code",
   "execution_count": 4,
   "metadata": {},
   "outputs": [],
   "source": [
    "# function to clean currency with regex\n",
    "def clean_currency(value):\n",
    "    if value:\n",
    "        return float(re.sub(r\"[^\\d.]\", \"\", value))\n",
    "    return None"
   ]
  },
  {
   "cell_type": "code",
   "execution_count": 5,
   "metadata": {},
   "outputs": [],
   "source": [
    "# empty list to extract data\n",
    "data = []\n",
    "\n",
    "# loop through each sheet to get data\n",
    "for sheet in spreadsheet.worksheets():\n",
    "    sheet_name = sheet.title\n",
    "\n",
    "    # ignore unwanted sheets\n",
    "    if sheet_name.lower() in [\"template\", \"pepco update\"]:\n",
    "        continue\n",
    "\n",
    "    # read values from A2:C6\n",
    "    values = sheet.get(\"A2:C6\")\n",
    "\n",
    "    # process rows\n",
    "    for row in values:\n",
    "        if len(row) >= 3:\n",
    "            expense, name, amount = row[0], row[1], clean_currency(row[2])\n",
    "\n",
    "            # convert sheet name to datetime\n",
    "            date = pd.to_datetime(sheet_name, errors=\"coerce\")\n",
    "            if pd.notna(date):\n",
    "                data.append([date, expense, name, amount])"
   ]
  },
  {
   "cell_type": "code",
   "execution_count": 6,
   "metadata": {},
   "outputs": [],
   "source": [
    "# save to df\n",
    "df = pd.DataFrame(data, columns=[\"Date\", \"Expense\", \"Name\", \"Amount\"])\n",
    "\n",
    "# add pseudonyms\n",
    "df = name_map(df)"
   ]
  },
  {
   "cell_type": "code",
   "execution_count": 7,
   "metadata": {},
   "outputs": [
    {
     "data": {
      "text/plain": [
       "array(['Randy Detman', 'Morning Glory', 'Zen Master Shabaka'],\n",
       "      dtype=object)"
      ]
     },
     "execution_count": 7,
     "metadata": {},
     "output_type": "execute_result"
    }
   ],
   "source": [
    "# confirm pseudonyms\n",
    "df.Name.unique()"
   ]
  },
  {
   "cell_type": "code",
   "execution_count": 8,
   "metadata": {},
   "outputs": [],
   "source": [
    "# data cleaning\n",
    "# update Pepco values and move CleanChoice entry\n",
    "\n",
    "# update Pepco values for Nov 2023 - May 2024\n",
    "# accounting for data in \"Pepco Update\" sheet\n",
    "pepco_updates = {\n",
    "    \"2023-12-01\": 192.81,\n",
    "    \"2024-01-01\": 196.28,\n",
    "    \"2024-02-01\": 174.56,\n",
    "    \"2024-03-01\": 158.60,\n",
    "    \"2024-04-01\": 139.34,\n",
    "}\n",
    "\n",
    "for date, amount in pepco_updates.items():\n",
    "    df.loc[(df[\"Date\"] == date) & (df[\"Expense\"] == \"Pepco\"), \"Amount\"] = amount\n",
    "\n",
    "# move CleanChoice from March 2023 to February 2023\n",
    "# legacy from Zen Master Shabaka moving out\n",
    "mask = (df[\"Date\"] == \"2023-03-01\") & (df[\"Expense\"] == \"CleanChoice\")\n",
    "if mask.any():\n",
    "    df.loc[mask, \"Date\"] = \"2023-02-01\"\n",
    "\n",
    "# gotta check w/ Detman if this is necessary\n",
    "# subtract 143.5 from CleanChoice amount for June 2023\n",
    "# df.loc[(df[\"Date\"] == \"2023-06-01\") & (df[\"Expense\"] == \"CleanChoice\"), \"Amount\"] -= 143.5"
   ]
  },
  {
   "cell_type": "code",
   "execution_count": 9,
   "metadata": {},
   "outputs": [],
   "source": [
    "# change \"Pepco/Exelon\" to \"Pepco\" in the Expense column\n",
    "df.loc[df['Expense'] == \"Pepco/Exelon\", 'Expense'] = \"Pepco\""
   ]
  },
  {
   "cell_type": "code",
   "execution_count": 10,
   "metadata": {},
   "outputs": [],
   "source": [
    "df['Year'] = pd.to_datetime(df['Date']).dt.year\n",
    "df['Month'] = pd.to_datetime(df['Date']).dt.month"
   ]
  },
  {
   "cell_type": "code",
   "execution_count": 11,
   "metadata": {},
   "outputs": [],
   "source": [
    "# in case it's not sorted\n",
    "df = df.sort_values(by=\"Date\")\n",
    "\n",
    "# save to csv\n",
    "df.to_csv(\"utilities_313.csv\", index=False)"
   ]
  }
 ],
 "metadata": {
  "kernelspec": {
   "display_name": "dev",
   "language": "python",
   "name": "python3"
  },
  "language_info": {
   "codemirror_mode": {
    "name": "ipython",
    "version": 3
   },
   "file_extension": ".py",
   "mimetype": "text/x-python",
   "name": "python",
   "nbconvert_exporter": "python",
   "pygments_lexer": "ipython3",
   "version": "3.10.13"
  }
 },
 "nbformat": 4,
 "nbformat_minor": 2
}
